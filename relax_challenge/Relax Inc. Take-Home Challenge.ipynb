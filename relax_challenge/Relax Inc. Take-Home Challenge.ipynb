{
 "cells": [
  {
   "cell_type": "markdown",
   "id": "b98ab80e-3bc5-4938-b028-9a67ffee278b",
   "metadata": {},
   "source": [
    "# Relax Inc. Take-Home Challenge\r\n"
   ]
  },
  {
   "cell_type": "code",
   "execution_count": 2,
   "id": "e6c482bd-7548-4618-9c26-09fbea4a194c",
   "metadata": {},
   "outputs": [],
   "source": [
    "import pandas as pd\n",
    "import numpy as np\n",
    "import matplotlib.pyplot as plt\n",
    "import seaborn as sns\n",
    "from datetime import datetime, timedelta\n",
    "from sklearn.model_selection import train_test_split\n",
    "from sklearn.ensemble import RandomForestClassifier\n",
    "from sklearn.metrics import classification_report, accuracy_score\n",
    "from imblearn.over_sampling import SMOTE"
   ]
  },
  {
   "cell_type": "code",
   "execution_count": 3,
   "id": "d4fda184-313c-4e15-9262-3fcade280ce3",
   "metadata": {},
   "outputs": [
    {
     "data": {
      "text/html": [
       "<div>\n",
       "<style scoped>\n",
       "    .dataframe tbody tr th:only-of-type {\n",
       "        vertical-align: middle;\n",
       "    }\n",
       "\n",
       "    .dataframe tbody tr th {\n",
       "        vertical-align: top;\n",
       "    }\n",
       "\n",
       "    .dataframe thead th {\n",
       "        text-align: right;\n",
       "    }\n",
       "</style>\n",
       "<table border=\"1\" class=\"dataframe\">\n",
       "  <thead>\n",
       "    <tr style=\"text-align: right;\">\n",
       "      <th></th>\n",
       "      <th>object_id</th>\n",
       "      <th>creation_time</th>\n",
       "      <th>name</th>\n",
       "      <th>email</th>\n",
       "      <th>creation_source</th>\n",
       "      <th>last_session_creation_time</th>\n",
       "      <th>opted_in_to_mailing_list</th>\n",
       "      <th>enabled_for_marketing_drip</th>\n",
       "      <th>org_id</th>\n",
       "      <th>invited_by_user_id</th>\n",
       "    </tr>\n",
       "  </thead>\n",
       "  <tbody>\n",
       "    <tr>\n",
       "      <th>0</th>\n",
       "      <td>1</td>\n",
       "      <td>2014-04-22 03:53:30</td>\n",
       "      <td>Clausen August</td>\n",
       "      <td>AugustCClausen@yahoo.com</td>\n",
       "      <td>GUEST_INVITE</td>\n",
       "      <td>1.398139e+09</td>\n",
       "      <td>1</td>\n",
       "      <td>0</td>\n",
       "      <td>11</td>\n",
       "      <td>10803.0</td>\n",
       "    </tr>\n",
       "    <tr>\n",
       "      <th>1</th>\n",
       "      <td>2</td>\n",
       "      <td>2013-11-15 03:45:04</td>\n",
       "      <td>Poole Matthew</td>\n",
       "      <td>MatthewPoole@gustr.com</td>\n",
       "      <td>ORG_INVITE</td>\n",
       "      <td>1.396238e+09</td>\n",
       "      <td>0</td>\n",
       "      <td>0</td>\n",
       "      <td>1</td>\n",
       "      <td>316.0</td>\n",
       "    </tr>\n",
       "    <tr>\n",
       "      <th>2</th>\n",
       "      <td>3</td>\n",
       "      <td>2013-03-19 23:14:52</td>\n",
       "      <td>Bottrill Mitchell</td>\n",
       "      <td>MitchellBottrill@gustr.com</td>\n",
       "      <td>ORG_INVITE</td>\n",
       "      <td>1.363735e+09</td>\n",
       "      <td>0</td>\n",
       "      <td>0</td>\n",
       "      <td>94</td>\n",
       "      <td>1525.0</td>\n",
       "    </tr>\n",
       "    <tr>\n",
       "      <th>3</th>\n",
       "      <td>4</td>\n",
       "      <td>2013-05-21 08:09:28</td>\n",
       "      <td>Clausen Nicklas</td>\n",
       "      <td>NicklasSClausen@yahoo.com</td>\n",
       "      <td>GUEST_INVITE</td>\n",
       "      <td>1.369210e+09</td>\n",
       "      <td>0</td>\n",
       "      <td>0</td>\n",
       "      <td>1</td>\n",
       "      <td>5151.0</td>\n",
       "    </tr>\n",
       "    <tr>\n",
       "      <th>4</th>\n",
       "      <td>5</td>\n",
       "      <td>2013-01-17 10:14:20</td>\n",
       "      <td>Raw Grace</td>\n",
       "      <td>GraceRaw@yahoo.com</td>\n",
       "      <td>GUEST_INVITE</td>\n",
       "      <td>1.358850e+09</td>\n",
       "      <td>0</td>\n",
       "      <td>0</td>\n",
       "      <td>193</td>\n",
       "      <td>5240.0</td>\n",
       "    </tr>\n",
       "  </tbody>\n",
       "</table>\n",
       "</div>"
      ],
      "text/plain": [
       "   object_id        creation_time               name  \\\n",
       "0          1  2014-04-22 03:53:30     Clausen August   \n",
       "1          2  2013-11-15 03:45:04      Poole Matthew   \n",
       "2          3  2013-03-19 23:14:52  Bottrill Mitchell   \n",
       "3          4  2013-05-21 08:09:28    Clausen Nicklas   \n",
       "4          5  2013-01-17 10:14:20          Raw Grace   \n",
       "\n",
       "                        email creation_source  last_session_creation_time  \\\n",
       "0    AugustCClausen@yahoo.com    GUEST_INVITE                1.398139e+09   \n",
       "1      MatthewPoole@gustr.com      ORG_INVITE                1.396238e+09   \n",
       "2  MitchellBottrill@gustr.com      ORG_INVITE                1.363735e+09   \n",
       "3   NicklasSClausen@yahoo.com    GUEST_INVITE                1.369210e+09   \n",
       "4          GraceRaw@yahoo.com    GUEST_INVITE                1.358850e+09   \n",
       "\n",
       "   opted_in_to_mailing_list  enabled_for_marketing_drip  org_id  \\\n",
       "0                         1                           0      11   \n",
       "1                         0                           0       1   \n",
       "2                         0                           0      94   \n",
       "3                         0                           0       1   \n",
       "4                         0                           0     193   \n",
       "\n",
       "   invited_by_user_id  \n",
       "0             10803.0  \n",
       "1               316.0  \n",
       "2              1525.0  \n",
       "3              5151.0  \n",
       "4              5240.0  "
      ]
     },
     "execution_count": 3,
     "metadata": {},
     "output_type": "execute_result"
    }
   ],
   "source": [
    "users = pd.read_csv(r\"C:/Users/omnia/Google Drive/Springboard/Assigments/Relax Inc. Take-Home Challenge/relax_challenge/takehome_users.csv\", encoding=\"latin1\")\n",
    "users.head()"
   ]
  },
  {
   "cell_type": "code",
   "execution_count": 4,
   "id": "83519e7c-6833-481e-9d7e-f808dc654658",
   "metadata": {},
   "outputs": [
    {
     "data": {
      "text/html": [
       "<div>\n",
       "<style scoped>\n",
       "    .dataframe tbody tr th:only-of-type {\n",
       "        vertical-align: middle;\n",
       "    }\n",
       "\n",
       "    .dataframe tbody tr th {\n",
       "        vertical-align: top;\n",
       "    }\n",
       "\n",
       "    .dataframe thead th {\n",
       "        text-align: right;\n",
       "    }\n",
       "</style>\n",
       "<table border=\"1\" class=\"dataframe\">\n",
       "  <thead>\n",
       "    <tr style=\"text-align: right;\">\n",
       "      <th></th>\n",
       "      <th>time_stamp</th>\n",
       "      <th>user_id</th>\n",
       "      <th>visited</th>\n",
       "    </tr>\n",
       "  </thead>\n",
       "  <tbody>\n",
       "    <tr>\n",
       "      <th>0</th>\n",
       "      <td>2014-04-22 03:53:30</td>\n",
       "      <td>1</td>\n",
       "      <td>1</td>\n",
       "    </tr>\n",
       "    <tr>\n",
       "      <th>1</th>\n",
       "      <td>2013-11-15 03:45:04</td>\n",
       "      <td>2</td>\n",
       "      <td>1</td>\n",
       "    </tr>\n",
       "    <tr>\n",
       "      <th>2</th>\n",
       "      <td>2013-11-29 03:45:04</td>\n",
       "      <td>2</td>\n",
       "      <td>1</td>\n",
       "    </tr>\n",
       "    <tr>\n",
       "      <th>3</th>\n",
       "      <td>2013-12-09 03:45:04</td>\n",
       "      <td>2</td>\n",
       "      <td>1</td>\n",
       "    </tr>\n",
       "    <tr>\n",
       "      <th>4</th>\n",
       "      <td>2013-12-25 03:45:04</td>\n",
       "      <td>2</td>\n",
       "      <td>1</td>\n",
       "    </tr>\n",
       "  </tbody>\n",
       "</table>\n",
       "</div>"
      ],
      "text/plain": [
       "            time_stamp  user_id  visited\n",
       "0  2014-04-22 03:53:30        1        1\n",
       "1  2013-11-15 03:45:04        2        1\n",
       "2  2013-11-29 03:45:04        2        1\n",
       "3  2013-12-09 03:45:04        2        1\n",
       "4  2013-12-25 03:45:04        2        1"
      ]
     },
     "execution_count": 4,
     "metadata": {},
     "output_type": "execute_result"
    }
   ],
   "source": [
    "engagement = pd.read_csv(r\"C:/Users/omnia/Google Drive/Springboard/Assigments/Relax Inc. Take-Home Challenge/relax_challenge/takehome_user_engagement.csv\", encoding=\"latin1\")\n",
    "engagement.head()"
   ]
  },
  {
   "cell_type": "code",
   "execution_count": 5,
   "id": "8af5a449-0582-486e-80ad-daadec7b8e14",
   "metadata": {},
   "outputs": [
    {
     "name": "stdout",
     "output_type": "stream",
     "text": [
      "<class 'pandas.core.frame.DataFrame'>\n",
      "RangeIndex: 12000 entries, 0 to 11999\n",
      "Data columns (total 10 columns):\n",
      " #   Column                      Non-Null Count  Dtype  \n",
      "---  ------                      --------------  -----  \n",
      " 0   object_id                   12000 non-null  int64  \n",
      " 1   creation_time               12000 non-null  object \n",
      " 2   name                        12000 non-null  object \n",
      " 3   email                       12000 non-null  object \n",
      " 4   creation_source             12000 non-null  object \n",
      " 5   last_session_creation_time  8823 non-null   float64\n",
      " 6   opted_in_to_mailing_list    12000 non-null  int64  \n",
      " 7   enabled_for_marketing_drip  12000 non-null  int64  \n",
      " 8   org_id                      12000 non-null  int64  \n",
      " 9   invited_by_user_id          6417 non-null   float64\n",
      "dtypes: float64(2), int64(4), object(4)\n",
      "memory usage: 937.6+ KB\n"
     ]
    }
   ],
   "source": [
    "users.info()"
   ]
  },
  {
   "cell_type": "code",
   "execution_count": 6,
   "id": "b39cb855-0ef3-48e1-b978-e469af57a52a",
   "metadata": {},
   "outputs": [
    {
     "name": "stdout",
     "output_type": "stream",
     "text": [
      "<class 'pandas.core.frame.DataFrame'>\n",
      "RangeIndex: 207917 entries, 0 to 207916\n",
      "Data columns (total 3 columns):\n",
      " #   Column      Non-Null Count   Dtype \n",
      "---  ------      --------------   ----- \n",
      " 0   time_stamp  207917 non-null  object\n",
      " 1   user_id     207917 non-null  int64 \n",
      " 2   visited     207917 non-null  int64 \n",
      "dtypes: int64(2), object(1)\n",
      "memory usage: 4.8+ MB\n"
     ]
    }
   ],
   "source": [
    "engagement.info()"
   ]
  },
  {
   "cell_type": "code",
   "execution_count": 7,
   "id": "0c8b2a8e-3c00-41ab-8a53-c08508740fe2",
   "metadata": {},
   "outputs": [
    {
     "data": {
      "text/plain": [
       "object_id                        0\n",
       "creation_time                    0\n",
       "name                             0\n",
       "email                            0\n",
       "creation_source                  0\n",
       "last_session_creation_time    3177\n",
       "opted_in_to_mailing_list         0\n",
       "enabled_for_marketing_drip       0\n",
       "org_id                           0\n",
       "invited_by_user_id            5583\n",
       "dtype: int64"
      ]
     },
     "execution_count": 7,
     "metadata": {},
     "output_type": "execute_result"
    }
   ],
   "source": [
    "users.isnull().sum()"
   ]
  },
  {
   "cell_type": "code",
   "execution_count": 8,
   "id": "875cb922-0fa4-413c-ac4a-bdf8ca9831b5",
   "metadata": {},
   "outputs": [
    {
     "data": {
      "text/plain": [
       "time_stamp    0\n",
       "user_id       0\n",
       "visited       0\n",
       "dtype: int64"
      ]
     },
     "execution_count": 8,
     "metadata": {},
     "output_type": "execute_result"
    }
   ],
   "source": [
    "engagement.isnull().sum()"
   ]
  },
  {
   "cell_type": "code",
   "execution_count": 9,
   "id": "36194389-668b-4bf4-8fce-f2ca8612451f",
   "metadata": {},
   "outputs": [],
   "source": [
    "users['creation_time'] = pd.to_datetime(users['creation_time'])\n",
    "users['last_session_creation_time'] = pd.to_datetime(users['last_session_creation_time'], unit='s')\n",
    "engagement['time_stamp'] =pd.to_datetime(engagement['time_stamp'])"
   ]
  },
  {
   "cell_type": "code",
   "execution_count": 10,
   "id": "1002d110-3f29-42bd-9ecb-5e2c0698505b",
   "metadata": {},
   "outputs": [],
   "source": [
    "engagement = engagement.sort_values(by=['user_id', 'time_stamp'])"
   ]
  },
  {
   "cell_type": "code",
   "execution_count": 11,
   "id": "9f130a81-d87a-430d-b071-28cde266eb9b",
   "metadata": {},
   "outputs": [],
   "source": [
    "engagement['week_group'] = engagement.groupby('user_id')['time_stamp'].transform(lambda x: (x.diff().dt.days <= 7).cumsum())"
   ]
  },
  {
   "cell_type": "code",
   "execution_count": 12,
   "id": "e8661123-277b-4d37-a007-fdd443928525",
   "metadata": {},
   "outputs": [],
   "source": [
    "engagement_agg = (engagement.groupby(['user_id', 'week_group']).size().reset_index(name=\"login_count\"))"
   ]
  },
  {
   "cell_type": "code",
   "execution_count": 13,
   "id": "e59777b8-4fa7-48a9-a381-53ee55639bdb",
   "metadata": {},
   "outputs": [],
   "source": [
    "adopted_users = engagement_agg[engagement_agg['login_count'] >= 3]['user_id'].unique()"
   ]
  },
  {
   "cell_type": "code",
   "execution_count": 14,
   "id": "a7f1a647-2314-4119-9fb8-b4dc1875b1cb",
   "metadata": {},
   "outputs": [],
   "source": [
    "users['adopted_user'] = users['object_id'].isin(adopted_users).astype(int)\n",
    "users['last_session_creation_time'] = users['last_session_creation_time'].fillna(users['creation_time'])\n",
    "users['time_since_creation'] = (users['last_session_creation_time'] - users['creation_time']).dt.days\n",
    "users['invited_by_user_id'] = users['invited_by_user_id'].fillna(-1)\n",
    "users['was_invited'] = (users['invited_by_user_id']!= -1).astype(int)"
   ]
  },
  {
   "cell_type": "code",
   "execution_count": 15,
   "id": "b4b4a5cd-f623-4d7a-860b-af5ef1c50867",
   "metadata": {},
   "outputs": [],
   "source": [
    "users = pd.get_dummies(users, columns=['creation_source'], drop_first=True)"
   ]
  },
  {
   "cell_type": "code",
   "execution_count": 16,
   "id": "d796185c-b656-42e0-a2fe-a3466538ef5c",
   "metadata": {},
   "outputs": [],
   "source": [
    "X = users.drop(['adopted_user', 'object_id', 'name', 'email', 'org_id', 'invited_by_user_id'], axis=1)\n",
    "y = users['adopted_user']"
   ]
  },
  {
   "cell_type": "code",
   "execution_count": 17,
   "id": "db7e3517-ddf7-4889-b0fa-3c6a6b3f7d98",
   "metadata": {},
   "outputs": [],
   "source": [
    "if 'last_session_creation_time' in X.columns:\n",
    "    X['last_session_creation_time'] = (X['last_session_creation_time'] - pd.Timestamp(\"1970-01-01\")) // pd.Timedelta('1s')\n",
    "if 'creation_time' in X.columns:\n",
    "    X['creation_time'] = (X['creation_time'] - pd.Timestamp(\"1970-01-01\")) // pd.Timedelta('1s')"
   ]
  },
  {
   "cell_type": "code",
   "execution_count": 18,
   "id": "e4d79fe0-5234-4a8b-89c0-34b2c9c015a5",
   "metadata": {},
   "outputs": [],
   "source": [
    "X = X.astype({col: 'int' for col in X.select_dtypes(include=['bool']).columns})"
   ]
  },
  {
   "cell_type": "code",
   "execution_count": 19,
   "id": "4c36d543-ca97-4367-8af0-ee48617c1508",
   "metadata": {},
   "outputs": [
    {
     "name": "stdout",
     "output_type": "stream",
     "text": [
      "creation_time                         0\n",
      "last_session_creation_time            0\n",
      "opted_in_to_mailing_list              0\n",
      "enabled_for_marketing_drip            0\n",
      "time_since_creation                   0\n",
      "was_invited                           0\n",
      "creation_source_ORG_INVITE            0\n",
      "creation_source_PERSONAL_PROJECTS     0\n",
      "creation_source_SIGNUP                0\n",
      "creation_source_SIGNUP_GOOGLE_AUTH    0\n",
      "dtype: int64\n"
     ]
    }
   ],
   "source": [
    "print(X.isnull().sum())"
   ]
  },
  {
   "cell_type": "code",
   "execution_count": 20,
   "id": "6b2f3483-e17f-47a4-a1cd-b9454e6ed761",
   "metadata": {},
   "outputs": [
    {
     "name": "stdout",
     "output_type": "stream",
     "text": [
      "creation_time                         int64\n",
      "last_session_creation_time            int64\n",
      "opted_in_to_mailing_list              int64\n",
      "enabled_for_marketing_drip            int64\n",
      "time_since_creation                   int64\n",
      "was_invited                           int32\n",
      "creation_source_ORG_INVITE            int32\n",
      "creation_source_PERSONAL_PROJECTS     int32\n",
      "creation_source_SIGNUP                int32\n",
      "creation_source_SIGNUP_GOOGLE_AUTH    int32\n",
      "dtype: object\n"
     ]
    }
   ],
   "source": [
    "print(X.dtypes)"
   ]
  },
  {
   "cell_type": "code",
   "execution_count": 21,
   "id": "263fa629-4522-4efe-8964-03d509d6c1bd",
   "metadata": {},
   "outputs": [],
   "source": [
    "# Train_Test Split\n",
    "X_train, X_test, y_train, y_test = train_test_split(X, y, test_size=0.3, random_state=42)"
   ]
  },
  {
   "cell_type": "code",
   "execution_count": 22,
   "id": "919271a7-31da-406d-bc31-22772ed5d473",
   "metadata": {},
   "outputs": [
    {
     "name": "stdout",
     "output_type": "stream",
     "text": [
      "Classification Report:\n",
      "              precision    recall  f1-score   support\n",
      "\n",
      "           0       0.97      0.96      0.97      3165\n",
      "           1       0.74      0.80      0.77       435\n",
      "\n",
      "    accuracy                           0.94      3600\n",
      "   macro avg       0.86      0.88      0.87      3600\n",
      "weighted avg       0.94      0.94      0.94      3600\n",
      "\n",
      "Accuracy:  0.94\n"
     ]
    }
   ],
   "source": [
    "rand_model = RandomForestClassifier(random_state=42)\n",
    "rand_model.fit(X_train, y_train)\n",
    "rand_pred = rand_model.predict(X_test) \n",
    "\n",
    "print(\"Classification Report:\")\n",
    "print(classification_report(y_test, rand_pred))\n",
    "print(f\"Accuracy: {accuracy_score(y_test, rand_pred) : .2f}\")\n"
   ]
  },
  {
   "cell_type": "code",
   "execution_count": 23,
   "id": "07a673cf-0657-4487-bedf-aac0a0d7082e",
   "metadata": {},
   "outputs": [],
   "source": [
    "# Feature importance\n",
    "feature_importance = pd.DataFrame({'Feature' : X.columns, 'Importance': rand_model.feature_importances_}).sort_values(by='Importance', ascending=False)"
   ]
  },
  {
   "cell_type": "code",
   "execution_count": 24,
   "id": "026efe20-6dd9-4fe1-92f8-2f7dc9922982",
   "metadata": {},
   "outputs": [
    {
     "name": "stdout",
     "output_type": "stream",
     "text": [
      "\n",
      "Feature Importance:\n",
      "                              Feature  Importance\n",
      "4                 time_since_creation    0.590011\n",
      "1          last_session_creation_time    0.238981\n",
      "0                       creation_time    0.130986\n",
      "2            opted_in_to_mailing_list    0.008803\n",
      "3          enabled_for_marketing_drip    0.007415\n",
      "6          creation_source_ORG_INVITE    0.006652\n",
      "5                         was_invited    0.004659\n",
      "8              creation_source_SIGNUP    0.004371\n",
      "9  creation_source_SIGNUP_GOOGLE_AUTH    0.004170\n",
      "7   creation_source_PERSONAL_PROJECTS    0.003951\n"
     ]
    }
   ],
   "source": [
    "print(\"\\nFeature Importance:\")\n",
    "print(feature_importance)"
   ]
  },
  {
   "cell_type": "code",
   "execution_count": 25,
   "id": "24b3010c-df3a-4f4c-92cb-b029d4a47a21",
   "metadata": {},
   "outputs": [
    {
     "data": {
      "image/png": "[encoded data removed]",
      "text/plain": [
       "<Figure size 1000x600 with 1 Axes>"
      ]
     },
     "metadata": {},
     "output_type": "display_data"
    }
   ],
   "source": [
    "plt.figure(figsize=(10, 6))\n",
    "plt.bar(feature_importance['Feature'], feature_importance['Importance'])\n",
    "plt.xticks(rotation=45, ha='right')\n",
    "plt.title(\"Feature Importance\")\n",
    "plt.xlabel(\"Features\")\n",
    "plt.ylabel(\"Importance\")\n",
    "plt.show()"
   ]
  },
  {
   "cell_type": "markdown",
   "id": "6a2a969b-4818-4f8c-8fe2-9a1a12802ac1",
   "metadata": {},
   "source": [
    "Key Insights:\n",
    "\n",
    "1. time_since_creation Dominates:\n",
    "\n",
    "    With an importance of ~59%, this feature overwhelmingly influences the model. It suggests that how long a user has been on the platform is crucial in determining adoption.\n",
    "\n",
    "2. Recency is Important (last_session_creation_time):\n",
    "\n",
    "    Users with recent activity are more likely to become adopted, highlighting the importance of consistent engagement.\n",
    "\n",
    "3. Signup and Invitation Sources Have Limited Influence:\n",
    "\n",
    "    Features like creation_source and was_invited have minimal impact. This suggests that how users join the platform (invite, direct signup, Google authentication) is less important than their behavior after joining.\n",
    "\n",
    "4. Marketing Campaigns Have Some Influence:\n",
    "\n",
    "    opted_in_to_mailing_list and enabled_for_marketing_drip have small contributions, meaning these might nudge adoption but are not strong drivers."
   ]
  },
  {
   "cell_type": "code",
   "execution_count": null,
   "id": "d8fb2579-7cd4-44de-bb21-0f53476a8eb2",
   "metadata": {},
   "outputs": [],
   "source": []
  }
 ],
 "metadata": {
  "kernelspec": {
   "display_name": "Python 3 (ipykernel)",
   "language": "python",
   "name": "python3"
  },
  "language_info": {
   "codemirror_mode": {
    "name": "ipython",
    "version": 3
   },
   "file_extension": ".py",
   "mimetype": "text/x-python",
   "name": "python",
   "nbconvert_exporter": "python",
   "pygments_lexer": "ipython3",
   "version": "3.12.4"
  }
 },
 "nbformat": 4,
 "nbformat_minor": 5
}
